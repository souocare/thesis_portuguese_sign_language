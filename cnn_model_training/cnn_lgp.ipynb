version https://git-lfs.github.com/spec/v1
oid sha256:e87822cb58079b9c7790b7eda25c42eb7ff11c8d4c938a0437142143d5dc7d8a
size 84940785
